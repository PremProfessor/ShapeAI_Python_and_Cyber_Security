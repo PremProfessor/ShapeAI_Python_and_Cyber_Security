{
  "nbformat": 4,
  "nbformat_minor": 0,
  "metadata": {
    "colab": {
      "name": "Prem_Kumar_R_Python_and_Cyber_Security.ipynb",
      "provenance": []
    },
    "kernelspec": {
      "name": "python3",
      "display_name": "Python 3"
    },
    "language_info": {
      "name": "python"
    }
  },
  "cells": [
    {
      "cell_type": "markdown",
      "metadata": {
        "id": "_qpztmd1l2Ec"
      },
      "source": [
        "# Weather details using third party API"
      ]
    },
    {
      "cell_type": "markdown",
      "metadata": {
        "id": "DTDQeBphmVkB"
      },
      "source": [
        "Importing OS:"
      ]
    },
    {
      "cell_type": "code",
      "metadata": {
        "id": "2ymwNvVXkYua"
      },
      "source": [
        "import requests\n",
        "from datetime import datetime"
      ],
      "execution_count": 2,
      "outputs": []
    },
    {
      "cell_type": "code",
      "metadata": {
        "colab": {
          "base_uri": "https://localhost:8080/"
        },
        "id": "3g4t4BpMmde2",
        "outputId": "526b614a-4151-424b-ca71-bf2197b205f6"
      },
      "source": [
        "api_key = 'c179c345088762d27d79c8d8099800cf'\n",
        "location = input(\"Enter the city name: \")"
      ],
      "execution_count": 20,
      "outputs": [
        {
          "output_type": "stream",
          "text": [
            "Enter the city name: Argentina\n"
          ],
          "name": "stdout"
        }
      ]
    },
    {
      "cell_type": "code",
      "metadata": {
        "id": "XNeeemhDmlaK"
      },
      "source": [
        "complete_api_link = \"https://api.openweathermap.org/data/2.5/weather?q=\"+location+\"&appid=\"+api_key\n",
        "api_link = requests.get(complete_api_link)\n",
        "api_data = api_link.json()"
      ],
      "execution_count": 21,
      "outputs": []
    },
    {
      "cell_type": "markdown",
      "metadata": {
        "id": "XpRBQ2h0mpyh"
      },
      "source": [
        "Creating variables to store and display data:"
      ]
    },
    {
      "cell_type": "code",
      "metadata": {
        "id": "uAc7p966mlMi"
      },
      "source": [
        "temp_city = ((api_data['main']['temp']) - 273.15)\n",
        "weather_desc = api_data['weather'][0]['description']\n",
        "hmdt = api_data['main']['humidity']\n",
        "wind_spd = api_data['wind']['speed']\n",
        "date_time = datetime.now().strftime(\"%d %b %Y  |  %I:%M:%S %p\")"
      ],
      "execution_count": 22,
      "outputs": []
    },
    {
      "cell_type": "markdown",
      "metadata": {
        "id": "mVN77SgCmtrS"
      },
      "source": [
        "Printing the weather report:"
      ]
    },
    {
      "cell_type": "code",
      "metadata": {
        "colab": {
          "base_uri": "https://localhost:8080/"
        },
        "id": "TXjSBkWImwQT",
        "outputId": "76f1d2ea-c8b4-452c-903c-bc2eabf55eda"
      },
      "source": [
        "print(\"__________________________________________________________\")\n",
        "print(\"Weather stats for - {}    |    {} \".format(location.upper()  , date_time))\n",
        "print(\"__________________________________________________________\")\n",
        "print(\"Current temperature               : {:.2f}°C\".format(temp_city))\n",
        "print(\"Current Weather description  :\",weather_desc)\n",
        "print(\"Current Humidity                    :\",hmdt, '%')\n",
        "print(\"Current wind speed                 :\",wind_spd,'kmph')\n",
        "print(\"__________________________________________________________\")"
      ],
      "execution_count": 23,
      "outputs": [
        {
          "output_type": "stream",
          "text": [
            "__________________________________________________________\n",
            "Weather stats for - ARGENTINA    |    28 Jul 2021  |  05:38:56 AM \n",
            "__________________________________________________________\n",
            "Current temperature               : 1.57°C\n",
            "Current Weather description  : clear sky\n",
            "Current Humidity                    : 62 %\n",
            "Current wind speed                 : 3.79 kmph\n",
            "__________________________________________________________\n"
          ],
          "name": "stdout"
        }
      ]
    },
    {
      "cell_type": "markdown",
      "metadata": {
        "id": "A1KUXcvanELU"
      },
      "source": [
        "Making a list to print the info as a text:"
      ]
    },
    {
      "cell_type": "code",
      "metadata": {
        "id": "Pb1Le-8ynG-L"
      },
      "source": [
        "txtlist = [temp_city,weather_desc,hmdt,wind_spd,date_time]\n",
        "with open(\"weather.txt\", mode= 'w' , encoding = 'cp1252') as f:\n",
        "  f.write(\"_______________________________________________________\\n\")\n",
        "  f.write(\"Weather Stats for - {}   ||   {}\".format(location.upper(), date_time))\n",
        "  f.write(\"\\n_______________________________________________________\\n\")\n",
        "  f.write(\"Current temperature: {:.2f}°C\\n\".format(txtlist[0]))\n",
        "\n",
        "  f.write(\"{} , {} \\n\".format(\"Current weather description   :\",txtlist[1]))\n",
        "  f.write(\"{} , {} , {} \\n\".format(\"Current Humidity                   :\",txtlist[2],\"%\"))\n",
        "  f.write(\"{} , {} , {} \\n\".format(\"Current wind speed                :\",txtlist[3],\"kmph\"))\n",
        "  f.write(\"_______________________________________________________\")"
      ],
      "execution_count": 24,
      "outputs": []
    }
  ]
}